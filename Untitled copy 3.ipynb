{
 "cells": [
  {
   "cell_type": "markdown",
   "id": "a9dd6826",
   "metadata": {},
   "source": [
    "1. 從 Notion 獲取資料並轉換成 DataFrame"
   ]
  },
  {
   "cell_type": "code",
   "execution_count": 4,
   "id": "1430c456",
   "metadata": {},
   "outputs": [],
   "source": [
    "import requests\n",
    "import pandas as pd\n",
    "from notion_client import Client\n",
    "\n",
    "NOTION_API_KEY = \"your_notion_api_key\"\n",
    "PAGE_ID = \"your_page_id\"\n",
    "HEADERS = {\n",
    "    \"Authorization\": f\"Bearer {NOTION_API_KEY}\",\n",
    "    \"Notion-Version\": \"2022-06-28\",\n",
    "    \"Content-Type\": \"application/json\"\n",
    "}\n",
    "\n",
    "def get_notion_page_content(page_id):\n",
    "    url = f\"https://api.notion.com/v1/blocks/{page_id}/children\"\n",
    "    response = requests.get(url, headers=HEADERS)\n",
    "    return response.json()\n",
    "\n",
    "page_content = get_notion_page_content(PAGE_ID)\n"
   ]
  },
  {
   "cell_type": "code",
   "execution_count": 5,
   "id": "8ee6fab7",
   "metadata": {},
   "outputs": [
   ],
   "source": [
    "page_content"
   ]
  },
  {
   "cell_type": "markdown",
   "id": "fb977281",
   "metadata": {},
   "source": [
    "2. 將 DataFrame 合併文本和公式並保留格式"
   ]
  },
  {
   "cell_type": "code",
   "execution_count": 6,
   "id": "74b07f49",
   "metadata": {},
   "outputs": [],
   "source": [
    "def blocks_to_dataframe(blocks):\n",
    "    data = []\n",
    "    for block in blocks['results']:\n",
    "        block_type = block['type']\n",
    "        content = ''\n",
    "        \n",
    "        # 處理有 rich_text 的區塊\n",
    "        if 'rich_text' in block.get(block_type, {}):\n",
    "            for item in block[block_type]['rich_text']:\n",
    "                if item['type'] == 'text':\n",
    "                    content += item['text']['content']\n",
    "                elif item['type'] == 'equation':\n",
    "                    content += f\"$$ {item['equation']['expression']} $$\"\n",
    "        \n",
    "        data.append({'id': block['id'], 'type': block_type, 'content': content})\n",
    "    \n",
    "    return pd.DataFrame(data)\n",
    "\n",
    "df = blocks_to_dataframe(page_content)\n"
   ]
  },
  {
   "cell_type": "markdown",
   "id": "d515edca",
   "metadata": {},
   "source": [
    "3. 提取並合併文字和公式（不換行）"
   ]
  },
  {
   "cell_type": "code",
   "execution_count": 7,
   "id": "acf9dab0",
   "metadata": {},
   "outputs": [],
   "source": [
    "def format_content_for_notion(content):\n",
    "    parts = content.split(\"$$\")\n",
    "    formatted_parts = []\n",
    "    \n",
    "    for i, part in enumerate(parts):\n",
    "        part = part.strip()\n",
    "        if i % 2 == 1:  # 偶數部分是公式\n",
    "            formatted_parts.append({\n",
    "                \"type\": \"equation\",\n",
    "                \"equation\": {\"expression\": part}\n",
    "            })\n",
    "        else:\n",
    "            if part:  # 將文字前後加上空白\n",
    "                formatted_parts.append({\n",
    "                    \"type\": \"text\",\n",
    "                    \"text\": {\"content\": f\" {part} \"}  # 在文字前後加空白\n",
    "                })\n",
    "    \n",
    "    return formatted_parts\n",
    "\n",
    "def combine_text_and_equations(df):\n",
    "    combined_blocks = []\n",
    "    for _, row in df.iterrows():\n",
    "        content = row['content']\n",
    "        notion_block_content = format_content_for_notion(content)\n",
    "        \n",
    "        combined_blocks.append({\n",
    "            'type': 'paragraph',\n",
    "            'paragraph': {\n",
    "                'rich_text': notion_block_content\n",
    "            }\n",
    "        })\n",
    "\n",
    "    return combined_blocks\n",
    "\n",
    "combined_data = combine_text_and_equations(df)"
   ]
  },
  {
   "cell_type": "markdown",
   "id": "b87fd39d",
   "metadata": {},
   "source": [
    "4. 將合併後的資料上傳到 Notion 頁面"
   ]
  },
  {
   "cell_type": "code",
   "execution_count": 8,
   "id": "46641cd5",
   "metadata": {},
   "outputs": [
   ],
   "source": [
    "def upload_to_notion(page_id, combined_blocks):\n",
    "    url = f\"https://api.notion.com/v1/blocks/{page_id}/children\"\n",
    "    children_blocks = combined_blocks\n",
    "    payload = {\n",
    "        \"children\": children_blocks\n",
    "    }\n",
    "    response = requests.patch(url, json=payload, headers=HEADERS)\n",
    "    return response.json()\n",
    "\n",
    "upload_to_notion(PAGE_ID, combined_data)"
   ]
  }
 ],
 "metadata": {
  "kernelspec": {
   "display_name": "Python 3 (ipykernel)",
   "language": "python",
   "name": "python3"
  },
  "language_info": {
   "codemirror_mode": {
    "name": "ipython",
    "version": 3
   },
   "file_extension": ".py",
   "mimetype": "text/x-python",
   "name": "python",
   "nbconvert_exporter": "python",
   "pygments_lexer": "ipython3",
   "version": "3.11.9"
  }
 },
 "nbformat": 4,
 "nbformat_minor": 5
}
